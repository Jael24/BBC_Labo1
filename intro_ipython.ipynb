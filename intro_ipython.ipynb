{
 "cells": [
  {
   "cell_type": "markdown",
   "metadata": {},
   "source": [
    "# BBC - Laboratoire 0.1\n",
    "## Introduction to python\n",
    "\n",
    "<i> Modified from lab-1 MLBD, courtesy of Julien Rebetez, Aitana Lebrand. </i>\n",
    "- Professeur: Carlos Peña (<a href=\"mailto:carlos.pena@heig-vd.ch\">carlos.pena@heig-vd.ch</a>)\n",
    "- Assistant 2016: Héctor Satizábal (<a href=\"mailto:hector-fabio.satizaba-mejia@heig-vd.ch\">hector-fabio.satizaba-mejia@heig-vd.ch</a>)\n",
    "- Assistant 2017: Diogo Leite (<a href=\"mailto:diogo.leite@heig-vd.ch\">diogo.leite@heig-vd.ch</a>)\n",
    "- Assistant 2018: Gary Marigliano ~~(gary.marigliano@heig-vd.ch)~~\n",
    "- Assistant 2019: Xavier Brochet (<a href=\"mailto:xavier.brochet@heig-vd.ch\">xavier.brochet@heig-vd.ch</a>)\n",
    "- Assistant 2020: Xavier Brochet (<a href=\"mailto:xavier.brochet@heig-vd.ch\">xavier.brochet@heig-vd.ch</a>)\n",
    "\n",
    "Date: Spring 2020"
   ]
  },
  {
   "cell_type": "markdown",
   "metadata": {},
   "source": [
    "> Throughout the laboratories, the questions that you should answer are highlighted as follows :\n",
    "> <p style=\"background-color:#AFEEEE;padding:3px\"><font size=\"4\"><b>0. </b></font> This is a question.</p>"
   ]
  },
  {
   "cell_type": "markdown",
   "metadata": {},
   "source": [
    "## 1. Introduction to IPython notebooks"
   ]
  },
  {
   "cell_type": "markdown",
   "metadata": {},
   "source": [
    "In this laboratory you are going to learn how to perform interactive computing using **IPython**. **IPython** is an interactive shell for python that has more functionnalities than the basic one. \n",
    "\n",
    "**Warning:** This guide does not start from the basics of the general purpose language **python**. If you do not know this language, it is recommended to follow a **python** tutorial in order to learn the basic concepts and commands. You can have a look at the [official python tutorial](https://docs.python.org/2/tutorial/) or [Google's python tutorial](https://developers.google.com/edu/python/) for example.\n",
    "\n",
    "Note that for this course, we will use Python 3.X\n",
    "\n",
    "You will use a browser-based notebook to interactively explore a dataset by:\n",
    "- Reading raw data from ascii files\n",
    "- Reading typed data (data frames) from ascii files\n",
    "- Selecting specific columns and/or rows from a dataset\n",
    "- Filtering datasets\n",
    "- Plotting the information in the dataset (e.g., scatter-plot, boxplot, histogram)\n",
    "\n",
    "\n",
    "In Bioinformatics and especially in data science (and related fields) it is common to use Python + Numpy (math) + Matplotlib (plots) + Pandas (data wrangling) + Scipy (stats) + ... You really should follow tutorials to keep up with this course. You can start by reading the following:\n",
    "\n",
    "* [Official python tutorial](https://docs.python.org/2/tutorial/)\n",
    "* [Google's python tutorial](https://developers.google.com/edu/python/)\n",
    "* [Learn Python in 5 minutes](https://learnxinyminutes.com/docs/python/)\n",
    "* [Quick start Numpy tutorial](https://docs.scipy.org/doc/numpy/user/quickstart.html)\n",
    "* [Effective Matplotlib](http://pbpython.com/effective-matplotlib.html)"
   ]
  },
  {
   "cell_type": "markdown",
   "metadata": {},
   "source": [
    "### Using the notebooks"
   ]
  },
  {
   "cell_type": "markdown",
   "metadata": {},
   "source": [
    "You are in an IPython notebook right now. An IPython notebook is a web interface to a Python interpreter.\n",
    "\n",
    "A notebook is made of cells. Each cell has a type which defines what happens when it is run. \n",
    "\n",
    "- Markdown cells allow you to write [Markdown](http://daringfireball.net/projects/markdown/) text in them. They are just displayed as HTML when run.\n",
    "- Code cells contain python code. When the cell is run, the code is sent to the python interpreter, executed and you get the result in the cell output.\n",
    "- Various header cells that allow you to structure your document.\n",
    "\n",
    "You can change the type of a cell using the drop-down menu in the toolbar.\n",
    "\n",
    "You can click (for Code cells) or double-click (for headers and markdown cells) on cells to edit their content. You can then use keyboard shortcuts to run them:\n",
    "\n",
    "- Ctrl + Enter : run in place\n",
    "- Shift + Enter : run and move to next cell\n",
    "- Alt + Enter : run and insert new cell after"
   ]
  },
  {
   "cell_type": "code",
   "execution_count": 1,
   "metadata": {},
   "outputs": [
    {
     "name": "stdout",
     "output_type": "stream",
     "text": [
      "4\n"
     ]
    }
   ],
   "source": [
    "# This is a code cell containing python code !\n",
    "print(2+2)"
   ]
  },
  {
   "cell_type": "markdown",
   "metadata": {},
   "source": [
    "The python interpreter that executes the code you write in the notebook is called a *Kernel*. You can restart the kernel (the interpreter) using the *Kernel* menu. This is useful if you want to delete all your variables."
   ]
  },
  {
   "cell_type": "markdown",
   "metadata": {},
   "source": [
    "Ipython has also \"magic\" functions that start with % . They allow you to do a lot of useful things with your ipython environment :\n",
    "\n",
    "http://nbviewer.ipython.org/github/ipython/ipython/blob/1.x/examples/notebooks/Cell%20Magics.ipynb\n",
    "\n",
    "The %who magic gives you a list of the defined python variables. object? can be used to get documentation about an object :"
   ]
  },
  {
   "cell_type": "code",
   "execution_count": 2,
   "metadata": {},
   "outputs": [
    {
     "name": "stdout",
     "output_type": "stream",
     "text": [
      "a\t \n"
     ]
    }
   ],
   "source": [
    "a = 2\n",
    "%who"
   ]
  },
  {
   "cell_type": "code",
   "execution_count": 3,
   "metadata": {},
   "outputs": [
    {
     "name": "stdout",
     "output_type": "stream",
     "text": [
      "3\n",
      "This is the traditional python help() function :\n",
      "\n",
      "Help on function my_documented_function in module __main__:\n",
      "\n",
      "my_documented_function(a)\n",
      "    This is a revolutionary function that returns a + 1\n",
      "\n",
      "End of help() command output \n",
      "\n"
     ]
    }
   ],
   "source": [
    "def my_documented_function(a):\n",
    "    \"\"\"This is a revolutionary function that returns a + 1\"\"\"\n",
    "    return a + 1\n",
    "\n",
    "print(my_documented_function(2))\n",
    "print('This is the traditional python help() function :\\n')\n",
    "help(my_documented_function)\n",
    "print('End of help() command output \\n')\n",
    "\n",
    "# We can access the same info with just ? (note that you have to run this cell to view the effect).\n",
    "my_documented_function?\n",
    "# The output may be provided in a separate pane in your browser"
   ]
  },
  {
   "cell_type": "markdown",
   "metadata": {},
   "source": [
    "## 2. Scientific computing with NumPy"
   ]
  },
  {
   "cell_type": "markdown",
   "metadata": {},
   "source": [
    "Python has a number of packages (libraries) dedicated to scientific programming :\n",
    "\n",
    "The foundation is [numpy](http://www.numpy.org/) which provides a N-dimensional array implementation with a nice indexing syntax (similar to MATLAB).\n",
    "\n",
    "Then comes [scipy](http://www.scipy.org/) which contains a number of algorithms (signal processing, distance computation, etc...) built on top of numpy.\n",
    "\n",
    "[matplotlib](http://matplotlib.org/) is a library to create 2D plots.\n",
    "\n",
    "[pandas](http://pandas.pydata.org/) provides a DataFrame implementation, which is a layer on top of numpy arrays that makes some things (handling missing values, date indexing) easier. Heavily inspired by the [R](http://www.r-project.org/) statistical computing language.\n",
    "\n",
    "[scikit-learn](http://scikit-learn.org/stable/) is a machine learning library that contains implementations of many of the most popular machine learning algorithms.\n",
    "\n",
    "[tensorflow](https://www.tensorflow.org/) and [pytorch](https://pytorch.org/) allow you to run deep learning models on a GPU.\n",
    "\n",
    "[Biopython](https://biopython.org) is a set of freely available tools for computational biology and bioinformatics. It contains classes to represent biological sequences and sequence annotations, and it is able to read and write to a variety of file formats. It also allows for a programmatic means of accessing online databases of biological information, such as those at NCBI. Separate modules extend Biopython's capabilities to sequence alignment, protein structure, population genetics, phylogenetics, sequence motifs, and machine learning.\n",
    "\n",
    "Finally, this is not a python package, but [stack overflow](http://stackoverflow.com/) is a really good question-and-answers site where you can probably find answers to the most common problems you'll have :-)"
   ]
  },
  {
   "cell_type": "markdown",
   "metadata": {},
   "source": [
    "For this course, we strongly suggest that you install and use [miniconda](https://docs.conda.io/en/latest/miniconda.html). It is a \"python distribution\" that comes with a package manager (conda) and all of the scientific packages listed above (and many others) pre-installed."
   ]
  },
  {
   "cell_type": "markdown",
   "metadata": {},
   "source": [
    "## 3. Quick numpy introduction"
   ]
  },
  {
   "cell_type": "markdown",
   "metadata": {},
   "source": [
    "Numpy allows you to define [multidimensionnal arrays](http://docs.scipy.org/doc/numpy/reference/arrays.ndarray.html) (recommended reading)."
   ]
  },
  {
   "cell_type": "code",
   "execution_count": 4,
   "metadata": {},
   "outputs": [
    {
     "name": "stdout",
     "output_type": "stream",
     "text": [
      "(2, 3)\n"
     ]
    },
    {
     "data": {
      "text/plain": [
       "array([[1, 2, 3],\n",
       "       [4, 5, 6]])"
      ]
     },
     "execution_count": 4,
     "metadata": {},
     "output_type": "execute_result"
    }
   ],
   "source": [
    "# Makes the numpy function available as np.<funcname> (np is a convention)\n",
    "import numpy as np\n",
    "\n",
    "array1 = np.array([ [1, 2, 3],\n",
    "                    [4, 5, 6] ])\n",
    "\n",
    "print(array1.shape)\n",
    "\n",
    "# The last line of a python cell is evaluated and used as the output for the cell\n",
    "array1"
   ]
  },
  {
   "cell_type": "markdown",
   "metadata": {},
   "source": [
    "The array elements can be accessed using the [indexing syntax](http://docs.scipy.org/doc/numpy/reference/arrays.indexing.html#arrays-indexing) (recommended reading). Numpy (and python) uses 0-based indexing."
   ]
  },
  {
   "cell_type": "code",
   "execution_count": 5,
   "metadata": {},
   "outputs": [
    {
     "name": "stdout",
     "output_type": "stream",
     "text": [
      "element (2,3) :  6\n",
      "first row     :  [1 2 3]\n",
      "second column :  [2 5]\n",
      "second and third element of the second row :  [5 6]\n"
     ]
    }
   ],
   "source": [
    "print(\"element (2,3) : \", array1[1,2])\n",
    "print(\"first row     : \", array1[0,:])\n",
    "print(\"second column : \", array1[:,1])\n",
    "print(\"second and third element of the second row : \", array1[1, 1:])"
   ]
  },
  {
   "cell_type": "markdown",
   "metadata": {},
   "source": [
    "You can do a [lot of things](http://docs.scipy.org/doc/numpy/reference/) with numpy arrays. For example, we can compute the mean of each line :"
   ]
  },
  {
   "cell_type": "code",
   "execution_count": 6,
   "metadata": {},
   "outputs": [
    {
     "data": {
      "text/plain": [
       "array([2., 5.])"
      ]
     },
     "execution_count": 6,
     "metadata": {},
     "output_type": "execute_result"
    }
   ],
   "source": [
    "array1.mean(axis=1)"
   ]
  },
  {
   "cell_type": "markdown",
   "metadata": {},
   "source": [
    "We can also sort an array :"
   ]
  },
  {
   "cell_type": "code",
   "execution_count": 7,
   "metadata": {},
   "outputs": [
    {
     "name": "stdout",
     "output_type": "stream",
     "text": [
      "original      :  [5 8 2 9 4 3]\n",
      "using argsort :  [2 3 4 5 8 9]\n",
      "after sort()  :  [2 3 4 5 8 9]\n"
     ]
    }
   ],
   "source": [
    "array2 = np.array([5, 8, 2, 9, 4, 3])\n",
    "print(\"original      : \", array2)\n",
    "\n",
    "print(\"using argsort : \", array2[np.argsort(array2)]) # the fancy indexing version\n",
    "\n",
    "array2.sort() # not that this does in-place sorting, so it *modifies* array2\n",
    "print(\"after sort()  : \", array2)"
   ]
  },
  {
   "cell_type": "markdown",
   "metadata": {},
   "source": [
    "We can also use comparison operators on arrays, giving us a boolean mask. And then use the mask to index the array :"
   ]
  },
  {
   "cell_type": "code",
   "execution_count": 8,
   "metadata": {},
   "outputs": [
    {
     "name": "stdout",
     "output_type": "stream",
     "text": [
      "[[1 2 3]\n",
      " [4 5 6]]\n",
      "[[False False False]\n",
      " [False  True False]]\n",
      "[5]\n"
     ]
    }
   ],
   "source": [
    "mask = array1 == 5\n",
    "print(array1)\n",
    "print(mask)\n",
    "print(array1[mask])"
   ]
  },
  {
   "cell_type": "markdown",
   "metadata": {},
   "source": [
    "<p style=\"background-color:#AFEEEE;padding:3px\"><font size=\"4\"><b>1. </b></font>Exercices, do the following :</p>\n",
    "\n",
    "- Compute the max of each row. Each column ?\n",
    "- Print the elements of array1 that are less than 4 (without a for loop)"
   ]
  },
  {
   "cell_type": "code",
   "execution_count": 14,
   "metadata": {},
   "outputs": [
    {
     "name": "stdout",
     "output_type": "stream",
     "text": [
      "[3 6]\n",
      "[4 5 6]\n",
      "[1 2 3]\n"
     ]
    }
   ],
   "source": [
    "#Compute the max of each row\n",
    "print(array1.max(axis=1))\n",
    "\n",
    "#Compute the max of each column\n",
    "print(array1.max(axis=0))\n",
    "\n",
    "#Print the elements of array1 that are less than 4 (without a for loop)\n",
    "mask = array1 < 4\n",
    "print(array1[mask])\n"
   ]
  },
  {
   "cell_type": "markdown",
   "metadata": {},
   "source": [
    "Python have the same conditional (**if**) and looping (**for** and **while**) instructions than other programming languages. You can also use lists to save values."
   ]
  },
  {
   "cell_type": "code",
   "execution_count": 16,
   "metadata": {},
   "outputs": [
    {
     "name": "stdout",
     "output_type": "stream",
     "text": [
      "These are the values: \n",
      "2\n",
      "10\n",
      "2\n",
      "9\n",
      "0\n",
      "count value: 0\n",
      "count value: 1\n",
      "count value: 1\n",
      "count value: 4\n",
      "count value: 4\n",
      "count value: 6\n",
      "count value: 9\n",
      "count value: 12\n",
      "List: [0, 1, 0, 3, 0, 2, 3, 3]\n"
     ]
    }
   ],
   "source": [
    "from random import randint\n",
    "\n",
    "list_values = []\n",
    "\n",
    "array_rnd = np.random.randint(15, size=5)\n",
    "print (\"These are the values: \")\n",
    "for value in array_rnd:\n",
    "    print (value)\n",
    "\n",
    "count = 0\n",
    "while count < 10:\n",
    "    rand_value = randint(0,3)\n",
    "    count += rand_value\n",
    "    list_values.append(rand_value)\n",
    "    print (\"count value: \" + str(count))\n",
    "    \n",
    "print (\"List: \" + str(list_values))"
   ]
  },
  {
   "cell_type": "markdown",
   "metadata": {},
   "source": [
    "<p style=\"background-color:#AFEEEE;padding:3px\"><font size=\"4\"><b>2. </b></font>Exercice, do the following :</p>\n",
    "- Try to write a script that takes two arrays a and b and, in each position, sums the values if they are even, save it into a structure and print all the values sorted."
   ]
  },
  {
   "cell_type": "code",
   "execution_count": 22,
   "metadata": {},
   "outputs": [
    {
     "name": "stdout",
     "output_type": "stream",
     "text": [
      "[6, 10]\n"
     ]
    }
   ],
   "source": [
    "a = [1, 2, 3, 4, 5]\n",
    "b = [16, 8, 4, 2, 1]\n",
    "#your code:\n",
    "length = min(len(a), len(b))\n",
    "\n",
    "result = []\n",
    "\n",
    "for i in range(0, length):\n",
    "    if ((a[i] % 2) + (b[i] % 2) == 0):\n",
    "        result.append(a[i] + b[i])\n",
    "\n",
    "result.sort()\n",
    "\n",
    "print(result)\n",
    "        \n",
    "    "
   ]
  },
  {
   "cell_type": "markdown",
   "metadata": {},
   "source": [
    "In python you have a dictionary to organise your information by pair key-value"
   ]
  },
  {
   "cell_type": "code",
   "execution_count": 23,
   "metadata": {},
   "outputs": [
    {
     "name": "stdout",
     "output_type": "stream",
     "text": [
      "--- 1 ---\n",
      "red\n",
      "blue\n",
      "orange\n",
      "--- 2 ---\n",
      "4\n",
      "10\n",
      "2\n",
      "--- 3 ---\n",
      "red 4\n",
      "blue 10\n",
      "orange 2\n"
     ]
    }
   ],
   "source": [
    "#this is an empty dictionary\n",
    "dict_empty = {}\n",
    "#this is a dictionary with values\n",
    "dict_values = {\"red\":4, \"blue\":10, \"orange\":2}\n",
    "#Some possibles ways to see the contents\n",
    "print (\"--- 1 ---\")\n",
    "for key in dict_values:\n",
    "    print (key)\n",
    "    \n",
    "print (\"--- 2 ---\")\n",
    "for key in dict_values:\n",
    "    print (dict_values[key])\n",
    "    \n",
    "print (\"--- 3 ---\")\n",
    "for key, val in dict_values.items():\n",
    "    print (key, val)\n",
    "    "
   ]
  },
  {
   "cell_type": "markdown",
   "metadata": {},
   "source": [
    "<p style=\"background-color:#AFEEEE;padding:3px\"><font size=\"4\"><b>3. </b></font>Exercice, do the following :</p>\n",
    "- Create a script that count even and odd values in \"vec_values\" and save the frequency in \"dict_results\""
   ]
  },
  {
   "cell_type": "code",
   "execution_count": 27,
   "metadata": {},
   "outputs": [
    {
     "name": "stdout",
     "output_type": "stream",
     "text": [
      "even 5\n",
      "odd 5\n"
     ]
    }
   ],
   "source": [
    "vec_values = [1,2,3,4,5,6,7,8,9,10]\n",
    "dict_results = {\"even\":0, \"odd\":0}\n",
    "\n",
    "for v in vec_values:\n",
    "    dict_results[\"odd\"] += (v % 2)\n",
    "    \n",
    "dict_results[\"even\"] = len(vec_values) - dict_results[\"odd\"]\n",
    "\n",
    "for key, val in dict_results.items():\n",
    "    print (key, val)"
   ]
  },
  {
   "cell_type": "markdown",
   "metadata": {},
   "source": [
    "## 4. Classifying the Iris flower dataset\n",
    "\n",
    "We will use the <a href=\"https://en.wikipedia.org/wiki/Iris_flower_data_set\">Iris flower dataset</a> to introduce you to the basics of plotting and machine learning (classification). This dataset contains 150 entries of irises with their petal and sepal lengths/widths. Three different classes of irises are present in this dataset (Setosa, Versicolour, and Virginica). Your goal will be to build a classifier that can recognize the iris class, based on the petal length and petal width. \n",
    "\n",
    "Start by loading the data."
   ]
  },
  {
   "cell_type": "code",
   "execution_count": 73,
   "metadata": {},
   "outputs": [
    {
     "name": "stdout",
     "output_type": "stream",
     "text": [
      "data\n",
      "target\n",
      "target_names\n",
      "DESCR\n",
      "feature_names\n",
      "filename\n"
     ]
    }
   ],
   "source": [
    "from sklearn import datasets\n",
    "iris = datasets.load_iris()\n",
    "X = iris.data[:, 2:]  # we only take the last two features.\n",
    "Y = iris.target\n",
    "\n",
    "for cle in iris.keys():\n",
    "    print(cle)\n",
    "    "
   ]
  },
  {
   "cell_type": "code",
   "execution_count": 72,
   "metadata": {},
   "outputs": [
    {
     "name": "stdout",
     "output_type": "stream",
     "text": [
      "[0 0 0 0 0 0 0 0 0 0 0 0 0 0 0 0 0 0 0 0 0 0 0 0 0 0 0 0 0 0 0 0 0 0 0 0 0\n",
      " 0 0 0 0 0 0 0 0 0 0 0 0 0 1 1 1 1 1 1 1 1 1 1 1 1 1 1 1 1 1 1 1 1 1 1 1 1\n",
      " 1 1 1 1 1 1 1 1 1 1 1 1 1 1 1 1 1 1 1 1 1 1 1 1 1 1 2 2 2 2 2 2 2 2 2 2 2\n",
      " 2 2 2 2 2 2 2 2 2 2 2 2 2 2 2 2 2 2 2 2 2 2 2 2 2 2 2 2 2 2 2 2 2 2 2 2 2\n",
      " 2 2]\n",
      "['setosa' 'versicolor' 'virginica']\n"
     ]
    }
   ],
   "source": [
    "print(iris.target)\n",
    "print(iris.target_names)"
   ]
  },
  {
   "cell_type": "markdown",
   "metadata": {},
   "source": [
    "### Visualization\n",
    "\n",
    "Visualize the data using a scatter plot."
   ]
  },
  {
   "cell_type": "code",
   "execution_count": 30,
   "metadata": {},
   "outputs": [
    {
     "name": "stdout",
     "output_type": "stream",
     "text": [
      "Populating the interactive namespace from numpy and matplotlib\n"
     ]
    },
    {
     "data": {
      "image/png": "[encoded data removed]",
      "text/plain": [
       "<Figure size 432x288 with 2 Axes>"
      ]
     },
     "metadata": {
      "needs_background": "light"
     },
     "output_type": "display_data"
    }
   ],
   "source": [
    "import pylab as pl # pylab is matplotlib\n",
    "# The line below enables matplotlib-ipython integration and allows plots to be displayed inline in the\n",
    "# notebook. The --no-import-all is to avoid polluting our namespace with a import *\n",
    "%pylab inline --no-import-all\n",
    "\n",
    "pl.scatter(X[:, 0], X[:, 1], c=Y,\n",
    "           cmap=pl.cm.get_cmap('jet', 3), vmin=-0.5, vmax=2.5)\n",
    "pl.xlabel('Petal length')\n",
    "pl.ylabel('Petal width')\n",
    "pl.grid()\n",
    "cbar = pl.colorbar(ticks=[0,1,2])\n",
    "cbar.ax.set_yticklabels(iris.target_names);"
   ]
  },
  {
   "cell_type": "markdown",
   "metadata": {},
   "source": [
    "<p style=\"background-color:#AFEEEE;padding:3px\"><font size=\"4\"><b>4. </b></font> By looking at this scatter plot, do you feel that building a classifier of iris class based on petal length and petal width will be an easy task? (Justify briefly)</p>"
   ]
  },
  {
   "cell_type": "markdown",
   "metadata": {},
   "source": [
    "Oui, il serait facile de créer un classificateur basé sur la longueur et la largeur des pétales. Grâce à ce graphique, on peut constater que les iris de même couleurs, donc de même classe, se trouvent dans la même zone \"géographique\". Il serait donc possible, à partir d'un point, de définir un rayon autour de lui. Et à l'intérieur de ce rayon, les points appertiennent à la même classe."
   ]
  },
  {
   "cell_type": "markdown",
   "metadata": {},
   "source": [
    "### Classification"
   ]
  },
  {
   "cell_type": "markdown",
   "metadata": {},
   "source": [
    "To build and evaluate a machine learning model, we need to split our data into training and testing sets. Scikit learn has a [cross_validation](http://scikit-learn.org/stable/modules/cross_validation.html#cross-validation) module that helps with this task."
   ]
  },
  {
   "cell_type": "code",
   "execution_count": 70,
   "metadata": {},
   "outputs": [
    {
     "name": "stdout",
     "output_type": "stream",
     "text": [
      "train shape :  (90, 2)\n",
      "test shape  :  (60, 2)\n"
     ]
    }
   ],
   "source": [
    "from sklearn.model_selection import train_test_split \n",
    "# train and test are indices arrays containing the indices of train/test samples\n",
    "X_train, X_test, y_train, y_test = train_test_split(\n",
    "    X, Y, test_size=0.4, random_state=0 # we fix random state for reproducibility)\n",
    ")\n",
    "\n",
    "print(\"train shape : \", X_train.shape)\n",
    "print(\"test shape  : \", X_test.shape)"
   ]
  },
  {
   "cell_type": "markdown",
   "metadata": {},
   "source": [
    "We'll use the [k Nearest Neighbor](http://en.wikipedia.org/wiki/K-nearest_neighbors_algorithm) to classify the iris flower dataset. This classifier will classify a new sample by assigning it the class of its k-nearest neighbors.\n",
    "\n",
    "The algorithm therefore consists of the following three steps:\n",
    "- compute the distance between a sample in the test set and all the samples in the training set\n",
    "- find the k-nearest neighbors in the training set\n",
    "- assign a class to the sample in the test set by taking the majority class among the k-nearest neighbors."
   ]
  },
  {
   "cell_type": "code",
   "execution_count": 67,
   "metadata": {},
   "outputs": [],
   "source": [
    "from sklearn import neighbors\n",
    "\n",
    "n_neighbors = 5 # k=5, i.e. 5-nearest neighbors\n",
    "\n",
    "clf = neighbors.KNeighborsClassifier(n_neighbors) \n",
    "clf.fit(X_train, y_train)\n",
    "\n",
    "# predict class of entries in the test set\n",
    "pred_kNN = clf.predict(X_test)"
   ]
  },
  {
   "cell_type": "markdown",
   "metadata": {},
   "source": [
    "In order to visualize the performance of the classifier, represent the confusion matrix:"
   ]
  },
  {
   "cell_type": "code",
   "execution_count": 68,
   "metadata": {},
   "outputs": [
    {
     "data": {
      "image/png": "[encoded data removed]",
      "text/plain": [
       "<Figure size 432x288 with 2 Axes>"
      ]
     },
     "metadata": {
      "needs_background": "light"
     },
     "output_type": "display_data"
    }
   ],
   "source": [
    "from sklearn.metrics import confusion_matrix\n",
    "\n",
    "def plot_confusion_matrix_iris(cm, title='Confusion matrix', cmap=plt.cm.Blues):\n",
    "    plt.imshow(cm, interpolation='nearest', cmap=cmap)\n",
    "    plt.title(title)\n",
    "    plt.colorbar()\n",
    "    tick_marks = np.arange(len(iris.target_names))\n",
    "    plt.xticks(tick_marks, iris.target_names, rotation=45)\n",
    "    plt.yticks(tick_marks, iris.target_names)\n",
    "    plt.tight_layout()\n",
    "    plt.ylabel('True label')\n",
    "    plt.xlabel('Predicted label')\n",
    "cm = confusion_matrix(y_test,pred_kNN)\n",
    "plot_confusion_matrix_iris(cm)"
   ]
  },
  {
   "cell_type": "markdown",
   "metadata": {},
   "source": [
    "<p style=\"background-color:#AFEEEE;padding:3px\"><font size=\"4\"><b>5. </b></font> Explain (briefly) what this confusion matrix shows.</p>"
   ]
  },
  {
   "cell_type": "markdown",
   "metadata": {},
   "source": [
    "La matrice de confusion permet de montrer les vrais positifs et les faux positifs. On peut donc voir facilement où l'algorithme s'est trompé en donnant la mauvaise classe."
   ]
  },
  {
   "cell_type": "markdown",
   "metadata": {},
   "source": [
    "In order to have a quantitative measure of performance, several <a href=\"https://en.wikipedia.org/wiki/Precision_and_recall\">metrics</a> can be used. In the following, we use accuracy, i.e., the proportion of true results (both true positives and true negatives) among the total number of cases examined. Note that in general, you should use several metrics, depending on the problem."
   ]
  },
  {
   "cell_type": "code",
   "execution_count": 69,
   "metadata": {},
   "outputs": [
    {
     "name": "stdout",
     "output_type": "stream",
     "text": [
      "Accuracy = 95.0%\n"
     ]
    }
   ],
   "source": [
    "from sklearn.metrics import accuracy_score\n",
    "acc = accuracy_score(y_test, pred_kNN)\n",
    "print('Accuracy = '+str(100*acc)+'%')"
   ]
  },
  {
   "cell_type": "markdown",
   "metadata": {},
   "source": [
    "<p style=\"background-color:#AFEEEE;padding:3px\"><font size=\"4\"><b>6. </b></font> In our example, we only used two features (petal length and petal width). Try classifying with all four features and compare the performance. Try also varying the number of neighbors, k.</p>"
   ]
  },
  {
   "cell_type": "code",
   "execution_count": 90,
   "metadata": {},
   "outputs": [
    {
     "name": "stdout",
     "output_type": "stream",
     "text": [
      "train shape :  (90, 4)\n",
      "test shape  :  (60, 4)\n",
      "Accuracy = 95.0%\n"
     ]
    },
    {
     "data": {
      "image/png": "[encoded data removed]",
      "text/plain": [
       "<Figure size 432x288 with 2 Axes>"
      ]
     },
     "metadata": {
      "needs_background": "light"
     },
     "output_type": "display_data"
    }
   ],
   "source": [
    "X_4 = iris.data # Creating a new X with all four features\n",
    "\n",
    "# train and test are indices arrays containing the indices of train/test samples\n",
    "X_train, X_test, y_train, y_test = train_test_split(\n",
    "    X_4, Y, test_size=0.4, random_state=0 # we fix random state for reproducibility)\n",
    ")\n",
    "\n",
    "print(\"train shape : \", X_train.shape)\n",
    "print(\"test shape  : \", X_test.shape)\n",
    "\n",
    "n_neighbors = 5 # k=5, i.e. 5-nearest neighbors\n",
    "\n",
    "clf = neighbors.KNeighborsClassifier(n_neighbors) \n",
    "clf.fit(X_train, y_train)\n",
    "\n",
    "# predict class of entries in the test set\n",
    "pred_kNN = clf.predict(X_test)\n",
    "\n",
    "def plot_confusion_matrix_iris(cm, title='Confusion matrix', cmap=plt.cm.Blues):\n",
    "    plt.imshow(cm, interpolation='nearest', cmap=cmap)\n",
    "    plt.title(title)\n",
    "    plt.colorbar()\n",
    "    tick_marks = np.arange(len(iris.target_names))\n",
    "    plt.xticks(tick_marks, iris.target_names, rotation=45)\n",
    "    plt.yticks(tick_marks, iris.target_names)\n",
    "    plt.tight_layout()\n",
    "    plt.ylabel('True label')\n",
    "    plt.xlabel('Predicted label')\n",
    "cm = confusion_matrix(y_test,pred_kNN)\n",
    "plot_confusion_matrix_iris(cm)\n",
    "\n",
    "acc = accuracy_score(y_test, pred_kNN)\n",
    "print('Accuracy = '+str(100*acc)+'%')"
   ]
  },
  {
   "cell_type": "markdown",
   "metadata": {},
   "source": [
    "Au niveau de la matrice de confusion, nous constatons qu'en prenant les 4 informations disponibles (on y ajoute la largeur et la longueur des sépales), il y a un léger changement au niveau des versicolors. Certains sont maintenant détectés commes des virginica.\n",
    "Au niveau de la précision, elle ne change pas selon qu'on prend les informations sur les sépales ou non.\n",
    "En changeant le facteur k, on peut légèrement faire varier la précision. On arrive à l'augmenter avec les 4 informations et en augmentant k à 10. Sinon, de manière générale, toute modification baisse la précision."
   ]
  },
  {
   "cell_type": "markdown",
   "metadata": {},
   "source": [
    "## 5. Cool links"
   ]
  },
  {
   "cell_type": "markdown",
   "metadata": {},
   "source": [
    "### Scikit-learn cheatsheet"
   ]
  },
  {
   "cell_type": "markdown",
   "metadata": {},
   "source": [
    "There is a [cheatsheet](http://scikit-learn.org/stable/tutorial/machine_learning_map/) available on scikit-learn's website that help you choose an algorithm when you're lost. It is of course simplified and doesn't include all algorithms and criteria, but it is a good starting point."
   ]
  },
  {
   "cell_type": "markdown",
   "metadata": {},
   "source": [
    "### Interesting ipython notebooks"
   ]
  },
  {
   "cell_type": "markdown",
   "metadata": {},
   "source": [
    "[nbviewer.ipython.org](http://nbviewer.ipython.org/) has a nice collection of ipython notebooks that showcase various libraries (and even different languages) that you can use with ipython."
   ]
  }
 ],
 "metadata": {
  "kernelspec": {
   "display_name": "Python 3",
   "language": "python",
   "name": "python3"
  },
  "language_info": {
   "codemirror_mode": {
    "name": "ipython",
    "version": 3
   },
   "file_extension": ".py",
   "mimetype": "text/x-python",
   "name": "python",
   "nbconvert_exporter": "python",
   "pygments_lexer": "ipython3",
   "version": "3.7.6"
  }
 },
 "nbformat": 4,
 "nbformat_minor": 1
}
